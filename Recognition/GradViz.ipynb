{
 "cells": [
  {
   "cell_type": "code",
   "execution_count": 9,
   "metadata": {},
   "outputs": [],
   "source": [
    "import torch\n",
    "import matplotlib.pyplot as plt\n",
    "import numpy as np\n",
    "from scipy.stats.stats import pearsonr\n",
    "import seaborn"
   ]
  },
  {
   "cell_type": "code",
   "execution_count": 15,
   "metadata": {},
   "outputs": [],
   "source": [
    "dumpAB = torch.load('gradinfo_AB.pth')\n",
    "dumpBH = torch.load('gradinfo_BH.pth')\n",
    "grad_sims = dumpAB['grad_sims']\n",
    "grad_sims1 = dumpBH['grad_sims']"
   ]
  },
  {
   "cell_type": "code",
   "execution_count": 38,
   "metadata": {},
   "outputs": [],
   "source": [
    "#AB\n",
    "acc_AB_A = [1.915,5.426,10.106,13.085,19.149,20.319,19.894,23.723,26.170,24.787]\n",
    "acc_AB_B = [5.591,19.441,28.463,29.352,35.070,31.258,36.595,32.656,36.595,36.341]\n",
    "\n",
    "#BH\n",
    "acc_BH_B = [8.259,29.860,36.849,37.357,41.550,39.517,43.456,42.058,42.313,45.743]\n",
    "acc_BH_H = [8.418,34.056,38.903,45.281,45.153,45.918,47.449,48.214,48.214,47.959]"
   ]
  },
  {
   "cell_type": "code",
   "execution_count": 45,
   "metadata": {},
   "outputs": [
    {
     "name": "stdout",
     "output_type": "stream",
     "text": [
      "gradient cosine and accuracy Correlation scores for ARAB-BAN\n",
      "\n",
      "FeatureExtraction.ConvNet.0.weight\n",
      "correlation between gradient similarity and arab accuracy: 0.2013695414894921\n",
      "correlation between gradient similarity and ban accuracy: 0.20370367841910603\n",
      "\n",
      "FeatureExtraction.ConvNet.0.bias\n",
      "correlation between gradient similarity and arab accuracy: -0.1220398546818001\n",
      "correlation between gradient similarity and ban accuracy: -0.020925813986085316\n",
      "\n",
      "FeatureExtraction.ConvNet.3.weight\n",
      "correlation between gradient similarity and arab accuracy: -0.04744393695821054\n",
      "correlation between gradient similarity and ban accuracy: -0.013492182821065372\n",
      "\n",
      "FeatureExtraction.ConvNet.3.bias\n",
      "correlation between gradient similarity and arab accuracy: 0.11201980192492327\n",
      "correlation between gradient similarity and ban accuracy: 0.3146812925081734\n",
      "\n",
      "FeatureExtraction.ConvNet.6.weight\n",
      "correlation between gradient similarity and arab accuracy: 0.3991847153166311\n",
      "correlation between gradient similarity and ban accuracy: 0.6478694240236584\n",
      "\n",
      "FeatureExtraction.ConvNet.6.bias\n",
      "correlation between gradient similarity and arab accuracy: 0.2598732780680981\n",
      "correlation between gradient similarity and ban accuracy: 0.5750236343889513\n",
      "\n",
      "FeatureExtraction.ConvNet.8.weight\n",
      "correlation between gradient similarity and arab accuracy: 0.4648394986903174\n",
      "correlation between gradient similarity and ban accuracy: 0.7432973490833124\n",
      "\n",
      "FeatureExtraction.ConvNet.8.bias\n",
      "correlation between gradient similarity and arab accuracy: 0.361556648807655\n",
      "correlation between gradient similarity and ban accuracy: 0.6492580142865567\n",
      "\n",
      "FeatureExtraction.ConvNet.11.weight\n",
      "correlation between gradient similarity and arab accuracy: 0.5781466706212385\n",
      "correlation between gradient similarity and ban accuracy: 0.8186942783933726\n",
      "\n",
      "FeatureExtraction.ConvNet.12.weight\n",
      "correlation between gradient similarity and arab accuracy: 0.7701756632032621\n",
      "correlation between gradient similarity and ban accuracy: 0.9323708469489743\n",
      "\n",
      "FeatureExtraction.ConvNet.12.bias\n",
      "correlation between gradient similarity and arab accuracy: 0.6230643198844245\n",
      "correlation between gradient similarity and ban accuracy: 0.8131671774846893\n",
      "\n",
      "FeatureExtraction.ConvNet.14.weight\n",
      "correlation between gradient similarity and arab accuracy: 0.5726163936421591\n",
      "correlation between gradient similarity and ban accuracy: 0.8188806337783944\n",
      "\n",
      "FeatureExtraction.ConvNet.15.weight\n",
      "correlation between gradient similarity and arab accuracy: 0.2360160604967805\n",
      "correlation between gradient similarity and ban accuracy: 0.37368273833383997\n",
      "\n",
      "FeatureExtraction.ConvNet.15.bias\n",
      "correlation between gradient similarity and arab accuracy: 0.18414014952024713\n",
      "correlation between gradient similarity and ban accuracy: 0.3362116648125571\n",
      "\n",
      "FeatureExtraction.ConvNet.18.weight\n",
      "correlation between gradient similarity and arab accuracy: 0.4750193805062069\n",
      "correlation between gradient similarity and ban accuracy: 0.6760377145197892\n",
      "\n",
      "FeatureExtraction.ConvNet.18.bias\n",
      "correlation between gradient similarity and arab accuracy: 0.3266375822175649\n",
      "correlation between gradient similarity and ban accuracy: 0.5425059227118117\n",
      "\n",
      "rnn_lang.0.rnn.weight_ih_l0\n",
      "correlation between gradient similarity and arab accuracy: 0.194142131543495\n",
      "correlation between gradient similarity and ban accuracy: 0.25413557285711325\n",
      "\n",
      "rnn_lang.0.rnn.weight_hh_l0\n",
      "correlation between gradient similarity and arab accuracy: 0.2433256278242137\n",
      "correlation between gradient similarity and ban accuracy: 0.3287251153370723\n",
      "\n",
      "rnn_lang.0.rnn.bias_ih_l0\n",
      "correlation between gradient similarity and arab accuracy: -0.002380115553857182\n",
      "correlation between gradient similarity and ban accuracy: 0.11887495889969099\n",
      "\n",
      "rnn_lang.0.rnn.bias_hh_l0\n",
      "correlation between gradient similarity and arab accuracy: -0.002380115553857182\n",
      "correlation between gradient similarity and ban accuracy: 0.11887495889969099\n",
      "\n",
      "rnn_lang.0.rnn.weight_ih_l0_reverse\n",
      "correlation between gradient similarity and arab accuracy: 0.4331258227099223\n",
      "correlation between gradient similarity and ban accuracy: 0.68720765534567\n",
      "\n",
      "rnn_lang.0.rnn.weight_hh_l0_reverse\n",
      "correlation between gradient similarity and arab accuracy: 0.3922983641600762\n",
      "correlation between gradient similarity and ban accuracy: 0.6654232009911152\n",
      "\n",
      "rnn_lang.0.rnn.bias_ih_l0_reverse\n",
      "correlation between gradient similarity and arab accuracy: 0.08890843566216172\n",
      "correlation between gradient similarity and ban accuracy: 0.39888539206629564\n",
      "\n",
      "rnn_lang.0.rnn.bias_hh_l0_reverse\n",
      "correlation between gradient similarity and arab accuracy: 0.08890843566216172\n",
      "correlation between gradient similarity and ban accuracy: 0.39888539206629564\n",
      "\n",
      "rnn_lang.0.linear.weight\n",
      "correlation between gradient similarity and arab accuracy: 0.49829824991557276\n",
      "correlation between gradient similarity and ban accuracy: 0.7456245304309165\n",
      "\n",
      "rnn_lang.0.linear.bias\n",
      "correlation between gradient similarity and arab accuracy: 0.104976007031377\n",
      "correlation between gradient similarity and ban accuracy: 0.3151329203209674\n",
      "\n",
      "rnn_lang.1.rnn.weight_ih_l0\n",
      "correlation between gradient similarity and arab accuracy: 0.5812304645794373\n",
      "correlation between gradient similarity and ban accuracy: 0.7055478061952308\n",
      "\n",
      "rnn_lang.1.rnn.weight_hh_l0\n",
      "correlation between gradient similarity and arab accuracy: 0.5824283445760823\n",
      "correlation between gradient similarity and ban accuracy: 0.6788944523761844\n",
      "\n",
      "rnn_lang.1.rnn.bias_ih_l0\n",
      "correlation between gradient similarity and arab accuracy: 0.3179924932509797\n",
      "correlation between gradient similarity and ban accuracy: 0.4481395920409625\n",
      "\n",
      "rnn_lang.1.rnn.bias_hh_l0\n",
      "correlation between gradient similarity and arab accuracy: 0.3179924932509797\n",
      "correlation between gradient similarity and ban accuracy: 0.4481395920409625\n",
      "\n",
      "rnn_lang.1.rnn.weight_ih_l0_reverse\n",
      "correlation between gradient similarity and arab accuracy: 0.19713755311243492\n",
      "correlation between gradient similarity and ban accuracy: 0.2079571330355733\n",
      "\n",
      "rnn_lang.1.rnn.weight_hh_l0_reverse\n",
      "correlation between gradient similarity and arab accuracy: -0.16553711859763634\n",
      "correlation between gradient similarity and ban accuracy: -0.23187525823744715\n",
      "\n",
      "rnn_lang.1.rnn.bias_ih_l0_reverse\n",
      "correlation between gradient similarity and arab accuracy: -0.08112018851435311\n",
      "correlation between gradient similarity and ban accuracy: -0.1476562310980044\n",
      "\n",
      "rnn_lang.1.rnn.bias_hh_l0_reverse\n",
      "correlation between gradient similarity and arab accuracy: -0.08112018851435311\n",
      "correlation between gradient similarity and ban accuracy: -0.1476562310980044\n",
      "\n",
      "rnn_lang.1.linear.weight\n",
      "correlation between gradient similarity and arab accuracy: -0.21575136539945702\n",
      "correlation between gradient similarity and ban accuracy: -0.3153517554936067\n",
      "\n",
      "rnn_lang.1.linear.bias\n",
      "correlation between gradient similarity and arab accuracy: -0.5715869587378727\n",
      "correlation between gradient similarity and ban accuracy: -0.4788354810125532\n",
      "\n"
     ]
    }
   ],
   "source": [
    "p_arabacc = []\n",
    "p_banacc_AB = []\n",
    "i=0\n",
    "print('gradient cosine and accuracy Correlation scores for ARAB-BAN\\n')\n",
    "for name,sims in grad_sims.items():\n",
    "    p_arabacc.append(pearsonr(np.array(acc_AB_A),np.array(sims))[0])\n",
    "    p_banacc_AB.append(pearsonr(np.array(acc_AB_B),np.array(sims))[0])\n",
    "    print(name)\n",
    "    print('correlation between gradient similarity and arab accuracy:',p_arabacc[i])\n",
    "    print('correlation between gradient similarity and ban accuracy:',p_banacc_AB[i])\n",
    "    print()\n",
    "    i+=1"
   ]
  },
  {
   "cell_type": "code",
   "execution_count": 43,
   "metadata": {},
   "outputs": [
    {
     "name": "stdout",
     "output_type": "stream",
     "text": [
      "gradient cosine and accuracy Correlation scores for Hin-BAN\n",
      "\n",
      "FeatureExtraction.ConvNet.0.weight\n",
      "correlation between gradient similarity and hindi accuracy: 0.5358637825030929\n",
      "correlation between gradient similarity and ban accuracy: 0.5785184269851343\n",
      "\n",
      "FeatureExtraction.ConvNet.0.bias\n",
      "correlation between gradient similarity and hindi accuracy: -0.23522956641075712\n",
      "correlation between gradient similarity and ban accuracy: -0.32659319451954044\n",
      "\n",
      "FeatureExtraction.ConvNet.3.weight\n",
      "correlation between gradient similarity and hindi accuracy: 0.6739424729678521\n",
      "correlation between gradient similarity and ban accuracy: 0.6076886119101637\n",
      "\n",
      "FeatureExtraction.ConvNet.3.bias\n",
      "correlation between gradient similarity and hindi accuracy: 0.05988170006593138\n",
      "correlation between gradient similarity and ban accuracy: 0.005724560266620152\n",
      "\n",
      "FeatureExtraction.ConvNet.6.weight\n",
      "correlation between gradient similarity and hindi accuracy: 0.8691076574466235\n",
      "correlation between gradient similarity and ban accuracy: 0.81945494277689\n",
      "\n",
      "FeatureExtraction.ConvNet.6.bias\n",
      "correlation between gradient similarity and hindi accuracy: 0.08203670337600306\n",
      "correlation between gradient similarity and ban accuracy: 0.02991497102689084\n",
      "\n",
      "FeatureExtraction.ConvNet.8.weight\n",
      "correlation between gradient similarity and hindi accuracy: 0.9557662549070506\n",
      "correlation between gradient similarity and ban accuracy: 0.9344263448834382\n",
      "\n",
      "FeatureExtraction.ConvNet.8.bias\n",
      "correlation between gradient similarity and hindi accuracy: 0.6520222133486658\n",
      "correlation between gradient similarity and ban accuracy: 0.641124937602772\n",
      "\n",
      "FeatureExtraction.ConvNet.11.weight\n",
      "correlation between gradient similarity and hindi accuracy: 0.9458364524880696\n",
      "correlation between gradient similarity and ban accuracy: 0.9593681343729152\n",
      "\n",
      "FeatureExtraction.ConvNet.12.weight\n",
      "correlation between gradient similarity and hindi accuracy: 0.8507586773337726\n",
      "correlation between gradient similarity and ban accuracy: 0.8063298126152355\n",
      "\n",
      "FeatureExtraction.ConvNet.12.bias\n",
      "correlation between gradient similarity and hindi accuracy: 0.623709634728888\n",
      "correlation between gradient similarity and ban accuracy: 0.5962485354883152\n",
      "\n",
      "FeatureExtraction.ConvNet.14.weight\n",
      "correlation between gradient similarity and hindi accuracy: 0.9495352136802941\n",
      "correlation between gradient similarity and ban accuracy: 0.9544849221492538\n",
      "\n",
      "FeatureExtraction.ConvNet.15.weight\n",
      "correlation between gradient similarity and hindi accuracy: 0.5048077346924646\n",
      "correlation between gradient similarity and ban accuracy: 0.5397283528867561\n",
      "\n",
      "FeatureExtraction.ConvNet.15.bias\n",
      "correlation between gradient similarity and hindi accuracy: 0.3543033383783812\n",
      "correlation between gradient similarity and ban accuracy: 0.3997847378404856\n",
      "\n",
      "FeatureExtraction.ConvNet.18.weight\n",
      "correlation between gradient similarity and hindi accuracy: 0.8052469701682304\n",
      "correlation between gradient similarity and ban accuracy: 0.8416968184407313\n",
      "\n",
      "FeatureExtraction.ConvNet.18.bias\n",
      "correlation between gradient similarity and hindi accuracy: 0.4752833494168226\n",
      "correlation between gradient similarity and ban accuracy: 0.4929715204804987\n",
      "\n",
      "rnn_lang.0.rnn.weight_ih_l0\n",
      "correlation between gradient similarity and hindi accuracy: 0.8751065865850717\n",
      "correlation between gradient similarity and ban accuracy: 0.8916231417695256\n",
      "\n",
      "rnn_lang.0.rnn.weight_hh_l0\n",
      "correlation between gradient similarity and hindi accuracy: 0.7388162274566625\n",
      "correlation between gradient similarity and ban accuracy: 0.7180722405644832\n",
      "\n",
      "rnn_lang.0.rnn.bias_ih_l0\n",
      "correlation between gradient similarity and hindi accuracy: 0.5789467055432878\n",
      "correlation between gradient similarity and ban accuracy: 0.5853708571335745\n",
      "\n",
      "rnn_lang.0.rnn.bias_hh_l0\n",
      "correlation between gradient similarity and hindi accuracy: 0.5789467055432878\n",
      "correlation between gradient similarity and ban accuracy: 0.5853708571335745\n",
      "\n",
      "rnn_lang.0.rnn.weight_ih_l0_reverse\n",
      "correlation between gradient similarity and hindi accuracy: 0.7019902134758224\n",
      "correlation between gradient similarity and ban accuracy: 0.735826994275734\n",
      "\n",
      "rnn_lang.0.rnn.weight_hh_l0_reverse\n",
      "correlation between gradient similarity and hindi accuracy: 0.6060726792488261\n",
      "correlation between gradient similarity and ban accuracy: 0.6203237382255752\n",
      "\n",
      "rnn_lang.0.rnn.bias_ih_l0_reverse\n",
      "correlation between gradient similarity and hindi accuracy: 0.42629529186275217\n",
      "correlation between gradient similarity and ban accuracy: 0.4468273496583563\n",
      "\n",
      "rnn_lang.0.rnn.bias_hh_l0_reverse\n",
      "correlation between gradient similarity and hindi accuracy: 0.42629529186275217\n",
      "correlation between gradient similarity and ban accuracy: 0.4468273496583563\n",
      "\n",
      "rnn_lang.0.linear.weight\n",
      "correlation between gradient similarity and hindi accuracy: 0.9023145650381171\n",
      "correlation between gradient similarity and ban accuracy: 0.8938663332687513\n",
      "\n",
      "rnn_lang.0.linear.bias\n",
      "correlation between gradient similarity and hindi accuracy: 0.7670117980142324\n",
      "correlation between gradient similarity and ban accuracy: 0.7452331402869911\n",
      "\n",
      "rnn_lang.1.rnn.weight_ih_l0\n",
      "correlation between gradient similarity and hindi accuracy: 0.7183414479761008\n",
      "correlation between gradient similarity and ban accuracy: 0.7163744840373327\n",
      "\n",
      "rnn_lang.1.rnn.weight_hh_l0\n",
      "correlation between gradient similarity and hindi accuracy: 0.729972940792357\n",
      "correlation between gradient similarity and ban accuracy: 0.7264238987345205\n",
      "\n",
      "rnn_lang.1.rnn.bias_ih_l0\n",
      "correlation between gradient similarity and hindi accuracy: 0.4994223767183229\n",
      "correlation between gradient similarity and ban accuracy: 0.4934577050498488\n",
      "\n",
      "rnn_lang.1.rnn.bias_hh_l0\n",
      "correlation between gradient similarity and hindi accuracy: 0.4994223767183229\n",
      "correlation between gradient similarity and ban accuracy: 0.4934577050498488\n",
      "\n",
      "rnn_lang.1.rnn.weight_ih_l0_reverse\n",
      "correlation between gradient similarity and hindi accuracy: 0.8803022365865613\n",
      "correlation between gradient similarity and ban accuracy: 0.8998685141386357\n",
      "\n",
      "rnn_lang.1.rnn.weight_hh_l0_reverse\n",
      "correlation between gradient similarity and hindi accuracy: 0.886244050059758\n",
      "correlation between gradient similarity and ban accuracy: 0.897595280284587\n",
      "\n",
      "rnn_lang.1.rnn.bias_ih_l0_reverse\n",
      "correlation between gradient similarity and hindi accuracy: 0.7521835635194348\n",
      "correlation between gradient similarity and ban accuracy: 0.7605359696893764\n",
      "\n",
      "rnn_lang.1.rnn.bias_hh_l0_reverse\n",
      "correlation between gradient similarity and hindi accuracy: 0.7521835635194348\n",
      "correlation between gradient similarity and ban accuracy: 0.7605359696893764\n",
      "\n",
      "rnn_lang.1.linear.weight\n",
      "correlation between gradient similarity and hindi accuracy: -0.043185624346901506\n",
      "correlation between gradient similarity and ban accuracy: -0.06160620088700797\n",
      "\n",
      "rnn_lang.1.linear.bias\n",
      "correlation between gradient similarity and hindi accuracy: -0.05265228743364067\n",
      "correlation between gradient similarity and ban accuracy: -0.09251374201691374\n",
      "\n"
     ]
    }
   ],
   "source": [
    "p_hinacc = []\n",
    "p_banacc = []\n",
    "i = 0\n",
    "print('gradient cosine and accuracy Correlation scores for Hin-BAN\\n')\n",
    "for name,sims in grad_sims1.items():\n",
    "    p_hinacc.append(pearsonr(np.array(acc_BH_H),np.array(sims))[0])\n",
    "    p_banacc.append(pearsonr(np.array(acc_BH_B),np.array(sims))[0])\n",
    "    print(name)\n",
    "    print('correlation between gradient similarity and hindi accuracy:',p_hinacc[i])\n",
    "    print('correlation between gradient similarity and ban accuracy:',p_banacc[i])\n",
    "    i = i+1\n",
    "    print()"
   ]
  },
  {
   "cell_type": "code",
   "execution_count": 49,
   "metadata": {},
   "outputs": [],
   "source": [
    "#compute euclidean distance between correlation vectors\n",
    "def norm1(a,b):\n",
    "    a = np.array(a)\n",
    "    b = np.array(b)\n",
    "    return np.linalg.norm(a-b)"
   ]
  },
  {
   "cell_type": "code",
   "execution_count": 55,
   "metadata": {},
   "outputs": [
    {
     "name": "stdout",
     "output_type": "stream",
     "text": [
      "norm between pearson correlation vectors of arab and bangla [training on Arab-Bangla]: 1.1186875548754143\n",
      "norm between pearson correlation vectors of hindi and bangla [training on Hindi-Bangla]: 0.19313257876804363\n",
      "norm between pearson correlation vectors of hindi and bangla not trained together: 2.7278657037466605\n"
     ]
    }
   ],
   "source": [
    "pearson_norm_AB = norm1(p_arabacc,p_banacc_AB)\n",
    "pearson_norm_BH = norm1(p_hinacc,p_banacc)\n",
    "pearson_norm_BH_trainAB = norm1(p_hinacc,p_arabacc)\n",
    "print('norm between pearson correlation vectors of arab and bangla [training on Arab-Bangla]:',pearson_norm_AB)\n",
    "print('norm between pearson correlation vectors of hindi and bangla [training on Hindi-Bangla]:',pearson_norm_BH)\n",
    "print('norm between pearson correlation vectors of hindi and bangla not trained together:',pearson_norm_BH_trainAB)"
   ]
  },
  {
   "cell_type": "code",
   "execution_count": 27,
   "metadata": {},
   "outputs": [
    {
     "data": {
      "text/plain": [
       "0.23100178569879157"
      ]
     },
     "execution_count": 27,
     "metadata": {},
     "output_type": "execute_result"
    }
   ],
   "source": [
    "sum(p_arabacc)/len(p_arabacc)"
   ]
  },
  {
   "cell_type": "code",
   "execution_count": null,
   "metadata": {},
   "outputs": [],
   "source": []
  },
  {
   "cell_type": "code",
   "execution_count": 28,
   "metadata": {},
   "outputs": [
    {
     "data": {
      "text/plain": [
       "0.3780566580236156"
      ]
     },
     "execution_count": 28,
     "metadata": {},
     "output_type": "execute_result"
    }
   ],
   "source": [
    "sum(p_banacc)/len(p_banacc)"
   ]
  },
  {
   "cell_type": "code",
   "execution_count": 31,
   "metadata": {},
   "outputs": [
    {
     "data": {
      "text/plain": [
       "(0.9956100192364844, 1.4386756157777825e-36)"
      ]
     },
     "execution_count": 31,
     "metadata": {},
     "output_type": "execute_result"
    }
   ],
   "source": [
    "pearsonr(np.array(p_hinacc),np.array(p_banacc))"
   ]
  },
  {
   "cell_type": "code",
   "execution_count": 23,
   "metadata": {},
   "outputs": [
    {
     "data": {
      "text/plain": [
       "0.5924139804953318"
      ]
     },
     "execution_count": 23,
     "metadata": {},
     "output_type": "execute_result"
    }
   ],
   "source": [
    "sum(p_hinacc)/len(p_hinacc)"
   ]
  },
  {
   "cell_type": "code",
   "execution_count": 24,
   "metadata": {},
   "outputs": [
    {
     "data": {
      "text/plain": [
       "0.5873428894708633"
      ]
     },
     "execution_count": 24,
     "metadata": {},
     "output_type": "execute_result"
    }
   ],
   "source": [
    "sum(p_banacc)/len(p_banacc)"
   ]
  },
  {
   "cell_type": "code",
   "execution_count": null,
   "metadata": {},
   "outputs": [],
   "source": []
  }
 ],
 "metadata": {
  "kernelspec": {
   "display_name": "Python 3",
   "language": "python",
   "name": "python3"
  },
  "language_info": {
   "codemirror_mode": {
    "name": "ipython",
    "version": 3
   },
   "file_extension": ".py",
   "mimetype": "text/x-python",
   "name": "python",
   "nbconvert_exporter": "python",
   "pygments_lexer": "ipython3",
   "version": "3.6.5"
  }
 },
 "nbformat": 4,
 "nbformat_minor": 2
}
